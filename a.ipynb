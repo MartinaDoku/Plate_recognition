{
 "cells": [
  {
   "cell_type": "code",
   "execution_count": 3,
   "metadata": {},
   "outputs": [
    {
     "ename": "error",
     "evalue": "OpenCV(4.5.5) D:\\a\\opencv-python\\opencv-python\\opencv\\modules\\imgproc\\src\\color.cpp:182: error: (-215:Assertion failed) !_src.empty() in function 'cv::cvtColor'\n",
     "output_type": "error",
     "traceback": [
      "\u001b[1;31m---------------------------------------------------------------------------\u001b[0m",
      "\u001b[1;31merror\u001b[0m                                     Traceback (most recent call last)",
      "\u001b[1;32m~\\AppData\\Local\\Temp/ipykernel_9392/1245264680.py\u001b[0m in \u001b[0;36m<module>\u001b[1;34m\u001b[0m\n\u001b[0;32m      4\u001b[0m     \u001b[1;31m#_,frame=video.read()\u001b[0m\u001b[1;33m\u001b[0m\u001b[1;33m\u001b[0m\u001b[0m\n\u001b[0;32m      5\u001b[0m \u001b[0mframe\u001b[0m\u001b[1;33m=\u001b[0m\u001b[0mcv2\u001b[0m\u001b[1;33m.\u001b[0m\u001b[0mimread\u001b[0m\u001b[1;33m(\u001b[0m\u001b[1;34m'car2.png'\u001b[0m\u001b[1;33m)\u001b[0m\u001b[1;33m\u001b[0m\u001b[1;33m\u001b[0m\u001b[0m\n\u001b[1;32m----> 6\u001b[1;33m \u001b[0mframe\u001b[0m\u001b[1;33m=\u001b[0m\u001b[0mcv2\u001b[0m\u001b[1;33m.\u001b[0m\u001b[0mcvtColor\u001b[0m\u001b[1;33m(\u001b[0m\u001b[0mframe\u001b[0m\u001b[1;33m,\u001b[0m\u001b[0mcv2\u001b[0m\u001b[1;33m.\u001b[0m\u001b[0mCOLOR_BGR2GRAY\u001b[0m\u001b[1;33m)\u001b[0m\u001b[1;33m\u001b[0m\u001b[1;33m\u001b[0m\u001b[0m\n\u001b[0m\u001b[0;32m      7\u001b[0m \u001b[0mblur_img\u001b[0m \u001b[1;33m=\u001b[0m \u001b[0mcv2\u001b[0m\u001b[1;33m.\u001b[0m\u001b[0mGaussianBlur\u001b[0m\u001b[1;33m(\u001b[0m\u001b[0mframe\u001b[0m\u001b[1;33m,\u001b[0m \u001b[1;33m(\u001b[0m\u001b[1;36m5\u001b[0m\u001b[1;33m,\u001b[0m \u001b[1;36m5\u001b[0m\u001b[1;33m)\u001b[0m\u001b[1;33m,\u001b[0m \u001b[1;36m0\u001b[0m\u001b[1;33m)\u001b[0m                     \u001b[1;31m#Apply the Gaussian Blur on the Image Enhanced in order to reduce the Noise.\u001b[0m\u001b[1;33m\u001b[0m\u001b[1;33m\u001b[0m\u001b[0m\n\u001b[0;32m      8\u001b[0m tresh_img = cv2.adaptiveThreshold(blur_img, 255.0,                             #Apply the adaptive thresholding onto the Gaussian-Blurred image received.\n",
      "\u001b[1;31merror\u001b[0m: OpenCV(4.5.5) D:\\a\\opencv-python\\opencv-python\\opencv\\modules\\imgproc\\src\\color.cpp:182: error: (-215:Assertion failed) !_src.empty() in function 'cv::cvtColor'\n"
     ]
    }
   ],
   "source": [
    "import cv2 \n",
    "#video=cv2.VideoCapture(0)\n",
    "#while True:\n",
    "    #_,frame=video.read()\n",
    "frame=cv2.imread('car2.png') \n",
    "frame=cv2.cvtColor(frame,cv2.COLOR_BGR2GRAY)\n",
    "blur_img = cv2.GaussianBlur(frame, (5, 5), 0)                     #Apply the Gaussian Blur on the Image Enhanced in order to reduce the Noise. \n",
    "tresh_img = cv2.adaptiveThreshold(blur_img, 255.0,                             #Apply the adaptive thresholding onto the Gaussian-Blurred image received.\n",
    "                                    cv2.ADAPTIVE_THRESH_GAUSSIAN_C, \n",
    "                                    cv2.THRESH_BINARY_INV, 19, 9)     \n",
    "\n",
    "tresh_img_clr=cv2.cvtColor(tresh_img,cv2.COLOR_GRAY2BGR)          #crea la versione acolori della threshold per poterci disegnar ei rettangoli colorati\n",
    "contours, hierarchy =cv2.findContours(tresh_img,cv2.RETR_LIST,cv2.CHAIN_APPROX_SIMPLE) #cerca sulla thresh i conturs\n",
    "possible_plates=[]\n",
    "for cnt in contours:                            #per ogni contur ceckiamo se l'area è > 100 \n",
    "    approx= cv2.contourArea(cnt)                #e se le proporzioni di he w sono giuste\n",
    "    if approx>1000:\n",
    "        x,y,w,h=cv2.boundingRect(cnt)\n",
    "        if w>3*h and w<5*h: \n",
    "            cv2.rectangle(tresh_img_clr, (x,y),(x+w,y+h),(0,255,0),2)       #se lo sono disegnamo i rettangoli sull'immagine\n",
    "            possible_plates.append(tresh_img[y+5:y+h+1-5,x+w//10:x+w+1-(w//8)])              #e aggiungiamo la porzione di immagine alle possibili targhe\n",
    "final_plate=0\n",
    "final_list_of_chars=[]\n",
    "for i in possible_plates:\n",
    "    c_count=0\n",
    "    list_of_chars=[]\n",
    "    i_clr=cv2.cvtColor(i,cv2.COLOR_GRAY2BGR)                                            #per ogni possibile targa creiamo l'immagine a colori per disegnare i rettangolini\n",
    "    #cv2.imshow('targa',i)\n",
    "    #k=cv2.waitKey(0)\n",
    "    contours, hierarchy =cv2.findContours(i,cv2.RETR_EXTERNAL,cv2.CHAIN_APPROX_SIMPLE) #troviamo i rettangoli\n",
    "    for cnt in contours:\n",
    "        approx= cv2.contourArea(cnt)\n",
    "        x,y,w,h=cv2.boundingRect(cnt)\n",
    "        if h>1.5*w and h<5*w and approx>200:        #controlliamo proporzioni e area per assicurarci siano lettere\n",
    "            c_count+=1                                                          #ad ogni lettere valida aggiungiamo uno al counter\n",
    "            cv2.rectangle(i_clr, (x,y),(x+w,y+h),(0,255,0),2)                   #e disegnamo il rettangolo\n",
    "            list_of_chars.append(i[y:y+h+1,x:x+w+1])  \n",
    "    #cv2.imshow(\"chars\",i_clr)\n",
    "    #k=cv2.waitKey(0)\n",
    "    if c_count>3:   #se sono state trovate più di tre lettere valide può essere la targa vera\n",
    "        #cv2.imshow(\"chars\",i_clr)\n",
    "        #k=cv2.waitKey(0)\n",
    "        if type(final_plate)==int:          #se ancora non è stata strovata una targa finale\n",
    "            final_plate=i_clr\n",
    "            final_list_of_chars=list_of_chars\n",
    "        elif len(final_plate)>len(i):       #se è gia stata trovata controlliamo se quella precedente è più grande\n",
    "            final_plate=i_clr               #in quel caso era probabilmente un 'rettangolo' che contine la targa che \n",
    "            final_list_of_chars=list_of_chars             #stiam considerando ora, quindi la sostituiamo\n",
    "                                            #perchèè ci conviene lavorare sullo slice più accurato\n",
    "cv2.imshow(\"FINAL PLATE\",final_plate)\n",
    "k=cv2.waitKey(0)\n",
    "for char in final_list_of_chars:\n",
    "    image = cv2.copyMakeBorder(char, 6, 6,14, 14, cv2.BORDER_CONSTANT,0) #aggiungp dei bordi neri per rendere lìimmagine simile  quella del dataset                                                                       #utilizzato per riconoscere i caratteri\n",
    "    image=cv2.resize(image,(28,28))\n",
    "    cv2.imshow('chars',image)\n",
    "    k=cv2.waitKey(0)\n",
    "#cv2.imshow(\"video\",tresh_img_clr)\n",
    "#k=cv2.waitKey(0)\n",
    "#if k== ord(\"k\"):\n",
    "#    break\n",
    "\n",
    " "
   ]
  }
 ],
 "metadata": {
  "kernelspec": {
   "display_name": "Python 3.9.7 ('base')",
   "language": "python",
   "name": "python3"
  },
  "language_info": {
   "codemirror_mode": {
    "name": "ipython",
    "version": 3
   },
   "file_extension": ".py",
   "mimetype": "text/x-python",
   "name": "python",
   "nbconvert_exporter": "python",
   "pygments_lexer": "ipython3",
   "version": "3.9.7"
  },
  "orig_nbformat": 4,
  "vscode": {
   "interpreter": {
    "hash": "ad2bdc8ecc057115af97d19610ffacc2b4e99fae6737bb82f5d7fb13d2f2c186"
   }
  }
 },
 "nbformat": 4,
 "nbformat_minor": 2
}
